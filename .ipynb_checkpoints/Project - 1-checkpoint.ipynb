{
 "cells": [
  {
   "cell_type": "markdown",
   "metadata": {},
   "source": [
    "# Data Analysis on Stackoverflow Developer Survey- 2017"
   ]
  },
  {
   "cell_type": "code",
   "execution_count": 2,
   "metadata": {},
   "outputs": [
    {
     "ename": "ModuleNotFoundError",
     "evalue": "No module named 'pandas'",
     "output_type": "error",
     "traceback": [
      "\u001b[1;31m---------------------------------------------------------------------------\u001b[0m",
      "\u001b[1;31mModuleNotFoundError\u001b[0m                       Traceback (most recent call last)",
      "\u001b[1;32m<ipython-input-2-c34ef8b6dc37>\u001b[0m in \u001b[0;36m<module>\u001b[1;34m\u001b[0m\n\u001b[1;32m----> 1\u001b[1;33m \u001b[1;32mimport\u001b[0m \u001b[0mpandas\u001b[0m \u001b[1;32mas\u001b[0m \u001b[0mpd\u001b[0m\u001b[1;33m\u001b[0m\u001b[1;33m\u001b[0m\u001b[0m\n\u001b[0m\u001b[0;32m      2\u001b[0m \u001b[1;32mimport\u001b[0m \u001b[0mnumpy\u001b[0m \u001b[1;32mas\u001b[0m \u001b[0mnp\u001b[0m\u001b[1;33m\u001b[0m\u001b[1;33m\u001b[0m\u001b[0m\n\u001b[0;32m      3\u001b[0m \u001b[1;32mimport\u001b[0m \u001b[0mmatplotlib\u001b[0m\u001b[1;33m.\u001b[0m\u001b[0mpyplot\u001b[0m \u001b[1;32mas\u001b[0m \u001b[0mplt\u001b[0m\u001b[1;33m\u001b[0m\u001b[1;33m\u001b[0m\u001b[0m\n\u001b[0;32m      4\u001b[0m \u001b[1;32mimport\u001b[0m \u001b[0mre\u001b[0m\u001b[1;33m\u001b[0m\u001b[1;33m\u001b[0m\u001b[0m\n\u001b[0;32m      5\u001b[0m \u001b[0mpd\u001b[0m\u001b[1;33m.\u001b[0m\u001b[0moptions\u001b[0m\u001b[1;33m.\u001b[0m\u001b[0mdisplay\u001b[0m\u001b[1;33m.\u001b[0m\u001b[0mmax_rows\u001b[0m \u001b[1;33m=\u001b[0m \u001b[1;36m4000\u001b[0m\u001b[1;33m\u001b[0m\u001b[1;33m\u001b[0m\u001b[0m\n",
      "\u001b[1;31mModuleNotFoundError\u001b[0m: No module named 'pandas'"
     ]
    }
   ],
   "source": [
    "import pandas as pd\n",
    "import numpy as np\n",
    "import matplotlib.pyplot as plt\n",
    "import re\n",
    "pd.options.display.max_rows = 4000\n",
    "%matplotlib inline\n",
    "plt.rcParams.update({'font.size':14})"
   ]
  },
  {
   "cell_type": "markdown",
   "metadata": {},
   "source": [
    "## Contents\n",
    "\n",
    "* [Business Understanding](#business)\n",
    "* [Data Understanding](#understanding)\n",
    "* [Data Preparation](#preparation)\n",
    "* [Data Modelling](#modelling)\n",
    "* [Evaluating Results](#results)"
   ]
  },
  {
   "cell_type": "markdown",
   "metadata": {},
   "source": [
    "<a id=\"business\"></a>\n",
    "## Business Understanding\n",
    "\n"
   ]
  },
  {
   "cell_type": "markdown",
   "metadata": {},
   "source": [
    "<a id=\"understanding\"></a>\n",
    "## Data Understanding"
   ]
  },
  {
   "cell_type": "code",
   "execution_count": null,
   "metadata": {},
   "outputs": [],
   "source": [
    "survey_df = pd.read_csv('survey_results_public.csv')\n",
    "survey_df.head()"
   ]
  },
  {
   "cell_type": "code",
   "execution_count": null,
   "metadata": {},
   "outputs": [],
   "source": [
    "survey_df.shape"
   ]
  },
  {
   "cell_type": "code",
   "execution_count": null,
   "metadata": {},
   "outputs": [],
   "source": [
    "print(sum(~survey_df['ExpectedSalary'].isnull()))\n",
    "print(sum(~survey_df['Salary'].isnull()))"
   ]
  },
  {
   "cell_type": "code",
   "execution_count": null,
   "metadata": {
    "scrolled": true
   },
   "outputs": [],
   "source": [
    "survey_schema[survey_schema['Column'].str.contains('have|want', flags=re.IGNORECASE)].values"
   ]
  },
  {
   "cell_type": "code",
   "execution_count": null,
   "metadata": {},
   "outputs": [],
   "source": [
    "sum(survey_df['Overpaid'].dropna().apply(lambda x: 1 if 'Somewhat underpaid' in x or 'Greatly underpaid' in x else 0))/ survey_df['Overpaid'].dropna().shape[0]"
   ]
  },
  {
   "cell_type": "code",
   "execution_count": null,
   "metadata": {},
   "outputs": [],
   "source": [
    "sum(survey_df['Overpaid'].dropna().apply(lambda x: 1 if 'Neither' in x else 0))/ survey_df['Overpaid'].dropna().shape[0]"
   ]
  },
  {
   "cell_type": "code",
   "execution_count": null,
   "metadata": {},
   "outputs": [],
   "source": [
    "sum(survey_df['Overpaid'].dropna().apply(lambda x: 1 if 'Somewhat overpaid' in x or 'Greatly overpaid' in x else 0))/ survey_df['Overpaid'].dropna().shape[0]"
   ]
  },
  {
   "cell_type": "code",
   "execution_count": null,
   "metadata": {},
   "outputs": [],
   "source": [
    "survey_df['HomeRemote'].value_counts()"
   ]
  },
  {
   "cell_type": "code",
   "execution_count": null,
   "metadata": {
    "scrolled": true
   },
   "outputs": [],
   "source": [
    "sum(survey_df[survey_df['HomeRemote'] != 'Never']['CollaborateRemote'].dropna().apply(lambda x: 1 if 'agree' in x.lower() and 'disagree' not in x.lower() else 0))/ survey_df[survey_df['HomeRemote'] != 'Never']['CollaborateRemote'].dropna().shape[0]\n"
   ]
  },
  {
   "cell_type": "code",
   "execution_count": null,
   "metadata": {
    "scrolled": true
   },
   "outputs": [],
   "source": [
    "survey_df.filter(regex='Edu*')"
   ]
  },
  {
   "cell_type": "code",
   "execution_count": null,
   "metadata": {},
   "outputs": [],
   "source": [
    "new_df = survey_df[~survey_df['HighestEducationParents'].isna() & ~survey_df['Salary'].isna() ][['HighestEducationParents', 'Salary']]"
   ]
  },
  {
   "cell_type": "markdown",
   "metadata": {},
   "source": [
    "<a id=\"preparation\"></a>\n",
    "## Data Preparation"
   ]
  },
  {
   "cell_type": "code",
   "execution_count": null,
   "metadata": {
    "scrolled": true
   },
   "outputs": [],
   "source": [
    "def return_df(column_name):\n",
    "    '''\n",
    "        Doc String \n",
    "        Description: This function returns the dataframe with the top 5 keys and values of the column given as input\n",
    "        Input: String - Column name of the dataframe\n",
    "        Output: Dataframe - A dataframe with (5,) shape \n",
    "    '''\n",
    "    temp_dict = {}\n",
    "    def add_or_append(x):\n",
    "        '''\n",
    "            Doc String \n",
    "            Description: This function performs manipulations in a row of the column name input. It splits the row with the ';' \n",
    "                            and creates a count of each of the values obtained from the list after splitting. \n",
    "                            Populates the global variable for this function temp_dict\n",
    "            Input: String - None\n",
    "            Output: Dataframe - None \n",
    "        '''\n",
    "        if x is not np.nan:\n",
    "            for i in x:\n",
    "                temp_dict[i.strip().lower()] = temp_dict.get(i.strip().lower(), 0) + 1\n",
    "    z = survey_df[column_name].str.split(';').apply(lambda x: add_or_append(x))\n",
    "    df = pd.DataFrame()\n",
    "    df['tech'] = temp_dict.keys()\n",
    "    df['Count'] = temp_dict.values()\n",
    "    df = df.sort_values(by='Count', ascending = False)\n",
    "    return df.iloc[:5,:]\n",
    "return_df('HaveWorkedFramework')"
   ]
  },
  {
   "cell_type": "code",
   "execution_count": null,
   "metadata": {},
   "outputs": [],
   "source": [
    "education_type_count = {}\n",
    "def get_count(education_list):\n",
    "    '''\n",
    "        Doc String \n",
    "        Description: This function takes in a list of education types and populates the education_type_count variable \n",
    "                            with the count of each of these education types.   \n",
    "        Input: String - list - of education types. \n",
    "        Output: Dataframe - None \n",
    "    '''\n",
    "    if education_list is not np.NaN:\n",
    "        if np.nan not in education_list:\n",
    "            for education in education_list:\n",
    "                education_type_count[education.strip()] = education_type_count.get(education.strip(), 0) + 1"
   ]
  },
  {
   "cell_type": "markdown",
   "metadata": {},
   "source": [
    "<a id=\"modelling\"></a>\n",
    "## Data Modelling"
   ]
  },
  {
   "cell_type": "code",
   "execution_count": null,
   "metadata": {},
   "outputs": [],
   "source": [
    "survey_df['EducationTypes'].str.split(\";\").apply(lambda x: get_count(x))\n",
    "education_type_count"
   ]
  },
  {
   "cell_type": "markdown",
   "metadata": {},
   "source": [
    "<a id=\"results\"></a>\n",
    "## Evaluating Results"
   ]
  },
  {
   "cell_type": "markdown",
   "metadata": {
    "scrolled": false
   },
   "source": [
    "| = pd.read_csv('survey_results_schema.csv')\n",
    "survey_schema"
   ]
  },
  {
   "cell_type": "markdown",
   "metadata": {},
   "source": [
    "### What is the distribution of profession among the respondents?"
   ]
  },
  {
   "cell_type": "code",
   "execution_count": null,
   "metadata": {
    "scrolled": false
   },
   "outputs": [],
   "source": [
    "ax = survey_df.groupby(by='Professional').count()['Respondent'].plot(kind='bar', figsize=(19,7),\n",
    "                                                                     width=0.25, title = \"Distribution of profession among the respondents\")\n",
    "ax.set_xlabel(\"Profession category\")\n",
    "ax.set_ylabel(\"Number of respondents\")"
   ]
  },
  {
   "cell_type": "markdown",
   "metadata": {},
   "source": [
    "Write stuff abouth te graohhhh"
   ]
  },
  {
   "cell_type": "markdown",
   "metadata": {},
   "source": [
    "### How many people were comfortable with telling us their salary and salary expectations?"
   ]
  },
  {
   "cell_type": "markdown",
   "metadata": {},
   "source": [
    "# Developer related questions"
   ]
  },
  {
   "cell_type": "markdown",
   "metadata": {},
   "source": [
    "### How many developers love solving problems?"
   ]
  },
  {
   "cell_type": "code",
   "execution_count": null,
   "metadata": {},
   "outputs": [],
   "source": [
    "ax = survey_df['ProblemSolving'].value_counts().plot(kind='bar', figsize=(19,7), title='Do developers love solving problems?')\n",
    "ax.set_xlabel('Category of developer opinion')\n",
    "ax.set_ylabel('Number of respondents')"
   ]
  },
  {
   "cell_type": "markdown",
   "metadata": {},
   "source": [
    "### What is the distribution for level of satisfaction in career?"
   ]
  },
  {
   "cell_type": "code",
   "execution_count": null,
   "metadata": {},
   "outputs": [],
   "source": [
    "ax = survey_df['CareerSatisfaction'].value_counts().sort_index().plot(kind='bar', figsize=(19,7), title = 'Career Satisfaction')\n",
    "ax.set_xlabel('Rating')\n",
    "ax.set_ylabel('Number of respondents')\n",
    "ax.grid(True)"
   ]
  },
  {
   "cell_type": "markdown",
   "metadata": {},
   "source": [
    "### What is the distribution for level of satisfaction in job?"
   ]
  },
  {
   "cell_type": "code",
   "execution_count": null,
   "metadata": {},
   "outputs": [],
   "source": [
    "ax = survey_df['JobSatisfaction'].value_counts().sort_index().plot(kind='bar', figsize=(19,7), title = 'Job Satisfaction')\n",
    "ax.set_xlabel('Rating')\n",
    "ax.set_ylabel('Number of respondents')\n",
    "ax.grid(True)"
   ]
  },
  {
   "cell_type": "markdown",
   "metadata": {},
   "source": [
    "### What is the distribution for level of satisfaction in career and jobs? Are people more satisfied with their career or job?\n"
   ]
  },
  {
   "cell_type": "code",
   "execution_count": null,
   "metadata": {
    "scrolled": false
   },
   "outputs": [],
   "source": [
    "plt.figure(figsize=(19,7))\n",
    "\n",
    "sorted_df_job = survey_df['JobSatisfaction'].value_counts().sort_index()\n",
    "ax1 = plt.bar(sorted_df_job.index, sorted_df_job.values, width = 0.25, label = 'Job Satisfaction')\n",
    "\n",
    "sorted_df_career = survey_df['CareerSatisfaction'].value_counts().sort_index()\n",
    "ax2 = plt.bar(sorted_df_career.index+0.25, sorted_df_career.values, width = 0.25, label = 'Career Satisfaction')\n",
    "\n",
    "plt.legend(handles=[ax1, ax2])\n",
    "plt.xlabel('Rating')\n",
    "plt.ylabel('Counts')\n",
    "plt.title('Job Satisfaction vs Career Satisfaction')"
   ]
  },
  {
   "cell_type": "markdown",
   "metadata": {},
   "source": [
    "### Of all the developers who have an opinion about either overpaid or underpaid \n",
    "* 56.46% of them think they are underpaid \n",
    "* 7.3% of them think they are overpaid\n",
    "* 36.13% of them they they are neither overpaid nor underpaid"
   ]
  },
  {
   "cell_type": "code",
   "execution_count": null,
   "metadata": {
    "scrolled": true
   },
   "outputs": [],
   "source": [
    "ax = survey_df['Overpaid'].value_counts().plot(kind='bar', figsize=(19,7), width=0.25, title = \"Respondent's opinion about overpaid or underpaid at a job\")\n",
    "ax.set_xlabel('Category in overpaid')\n",
    "ax.set_ylabel('Number of respondents')\n",
    "ax.grid(True)"
   ]
  },
  {
   "cell_type": "markdown",
   "metadata": {},
   "source": [
    "### Of all the developers who worked remote before, 69.67% of the people feel communication is difficult during remote work "
   ]
  },
  {
   "cell_type": "markdown",
   "metadata": {},
   "source": [
    "### What languages, frameworks, databases and platforms developers used before vs what do they want to work on? "
   ]
  },
  {
   "cell_type": "code",
   "execution_count": null,
   "metadata": {
    "scrolled": false
   },
   "outputs": [],
   "source": [
    "fig, ax= plt.subplots(4,2, figsize=(22,30), sharey=True)\n",
    "\n",
    "ax[0,0].bar(return_df('HaveWorkedLanguage')['tech'],return_df('HaveWorkedLanguage')['Count'], width=0.25, label = 'HaveWorkedLanguage')\n",
    "ax[0,0].legend()\n",
    "ax[0,0].grid(True)\n",
    "\n",
    "ax[0,1].bar(return_df('WantWorkLanguage')['tech'],return_df('WantWorkLanguage')['Count'], width=0.25, label = 'WantWorkLanguage')\n",
    "ax[0,1].legend()\n",
    "ax[0,1].grid(True)\n",
    "\n",
    "ax[1,0].bar(return_df('HaveWorkedFramework')['tech'],return_df('HaveWorkedFramework')['Count'], width=0.25, label = 'HaveWorkedFramework')\n",
    "ax[1,0].legend()\n",
    "ax[1,0].grid(True)\n",
    "\n",
    "ax[1,1].bar(return_df('WantWorkFramework')['tech'],return_df('WantWorkFramework')['Count'], width=0.25, label = 'WantWorkFramework')\n",
    "ax[1,1].legend()\n",
    "ax[1,1].grid(True)\n",
    "\n",
    "ax[2,0].bar(return_df('HaveWorkedDatabase')['tech'],return_df('HaveWorkedDatabase')['Count'], width=0.25, label = 'HaveWorkedDatabase')\n",
    "ax[2,0].legend()\n",
    "ax[2,0].grid(True)\n",
    "\n",
    "ax[2,1].bar(return_df('WantWorkDatabase')['tech'],return_df('WantWorkDatabase')['Count'], width=0.25 , label = 'WantWorkDatabase')\n",
    "ax[2,1].legend()\n",
    "ax[2,1].grid(True)\n",
    "\n",
    "df = return_df('HaveWorkedPlatform')['tech'].apply(lambda x: x.split(' ')[0] if 'desktop' in x else x)\n",
    "df = df.apply(lambda x: 'aws' if 'aws' in x else x)\n",
    "ax[3,0].bar(df,return_df('HaveWorkedPlatform')['Count'], width=0.25 , label = 'HaveWorkedPlatform')\n",
    "ax[3,0].legend()\n",
    "ax[3,0].grid(True)\n",
    "\n",
    "df = return_df('WantWorkPlatform')['tech'].apply(lambda x: x.split(' ')[0] if 'desktop' in x else x)\n",
    "df = df.apply(lambda x: 'aws' if 'aws' in x else x)\n",
    "ax[3,1].bar(df,return_df('WantWorkPlatform')['Count'], width=0.25 , label = 'WantWorkPlatform')\n",
    "ax[3,1].legend()\n",
    "ax[3,1].grid(True)\n",
    "\n",
    "plt.show()"
   ]
  },
  {
   "cell_type": "markdown",
   "metadata": {},
   "source": [
    "### How did respondents become developers?"
   ]
  },
  {
   "cell_type": "code",
   "execution_count": null,
   "metadata": {},
   "outputs": [],
   "source": [
    "fig, ax = plt.subplots(figsize = (19,7))\n",
    "ax.barh(list(education_type_count.keys()), education_type_count.values())\n",
    "ax.set_title('Different ways developers used to learn')\n",
    "ax.set_xlabel('Number of respondents')\n",
    "ax.set_ylabel('Mode of learning')\n",
    "for i,v in enumerate(education_type_count.values()):\n",
    "    ax.text(v+4, i-0.05, str(v))"
   ]
  },
  {
   "cell_type": "markdown",
   "metadata": {},
   "source": [
    "### How does a parent's education influence the success of the respondent?"
   ]
  },
  {
   "cell_type": "code",
   "execution_count": null,
   "metadata": {},
   "outputs": [],
   "source": [
    "ax = new_df.groupby(by='HighestEducationParents').mean().plot(kind='barh', figsize=(19,7))\n",
    "ax.set_title(\"Effect of parent's education on children\")\n",
    "ax.set_xlabel('Number of respondents')\n",
    "ax.set_ylabel('Level of education')"
   ]
  },
  {
   "cell_type": "code",
   "execution_count": null,
   "metadata": {},
   "outputs": [],
   "source": []
  }
 ],
 "metadata": {
  "kernelspec": {
   "display_name": "Python 3",
   "language": "python",
   "name": "python3"
  },
  "language_info": {
   "codemirror_mode": {
    "name": "ipython",
    "version": 3
   },
   "file_extension": ".py",
   "mimetype": "text/x-python",
   "name": "python",
   "nbconvert_exporter": "python",
   "pygments_lexer": "ipython3",
   "version": "3.7.7"
  }
 },
 "nbformat": 4,
 "nbformat_minor": 2
}
